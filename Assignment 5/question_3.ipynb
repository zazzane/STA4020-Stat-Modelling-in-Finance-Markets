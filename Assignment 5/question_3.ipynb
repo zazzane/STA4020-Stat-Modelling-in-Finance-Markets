{
 "cells": [
  {
   "cell_type": "markdown",
   "metadata": {},
   "source": [
    "## Question 3 (50 Points)\n",
    "\n",
    "In this exercise, you will use weekly return data for 50 US stocks. The data is provided to you in `returns.pkl`. The objective is to construct a `minimum variance portfolio` (MVP) using two different methods to estimate the covariance matrix and evaluate the performance of the resulting portfolios.\n",
    "\n",
    "#### Instructions:\n",
    "\n",
    "1. **Covariance Estimation**: Using a rolling window of 100 weeks (including the current week), estimate the covariance matrix of stock returns every week using:\n",
    "   - The sample covariance matrix (unadjusted).\n",
    "   - The Ledoit and Wolf shrinkage estimator.\n",
    "   \n",
    "   To estimate the covariance matrix using Ledoit-Wolf shrinkage, use the `LedoitWolf` module in Python’s `sklearn.covariance`. Make sure to carefully read the documentation to understand its input requirements. The document can be found at: [LedoitWolf Documentation](https://scikit-learn.org/1.5/modules/generated/sklearn.covariance.LedoitWolf.html).\n",
    "\n",
    "2. **Portfolio Construction**: For each week, construct a minimum variance portfolio (MVP) using both covariance estimation methods. The weights of the portfolio should minimize the variance of portfolio returns, subject to the constraint that the portfolio weights sum to 1. Short positions are allowed, meaning the weights of some stocks in the portfolio can be negative. Repeat this process for each week in the dataset to generate out-of-sample (OOS) returns for both MVPs.\n",
    "\n",
    "3. **Performance Comparison**: Calculate the standard deviation of the OOS returns for both portfolios. Compare the two portfolios in terms of their OOS standard deviations. Discuss whether the portfolio constructed using the Ledoit-Wolf covariance matrix has a lower OOS standard deviation compared to the portfolio constructed using the sample covariance matrix. In your discussion, provide an interpretation of the results in terms of the accuracy of covariance matrix estimation and its impact on portfolio risk.\n",
    "\n",
    "Please submit your Python code and ensure that it is clear and well-commented.\n"
   ]
  },
  {
   "cell_type": "markdown",
   "metadata": {},
   "source": [
    "### Part 1: Covariance Estimation"
   ]
  },
  {
   "cell_type": "code",
   "execution_count": null,
   "metadata": {},
   "outputs": [],
   "source": [
    "import pandas as pd\n",
    "import numpy as np\n",
    "from sklearn.covariance import LedoitWolf\n",
    "\n",
    "# Load the weekly return data\n",
    "returns = pd.read_pickle('returns.pkl')  # Ensure the file path is correct\n",
    "\n",
    "# Init variables and list to store cov matrix\n",
    "window_size = 100\n",
    "sample_cov_matrices = []\n",
    "ledoit_wolf_cov_matrices = []\n",
    "\n",
    "# Rolling window covariance estimation\n",
    "for start in range(len(returns) - window_size + 1):\n",
    "    end = start + window_size\n",
    "    window_data = returns.iloc[start:end]\n",
    "    \n",
    "    # Sample covariance matrix\n",
    "    sample_cov = window_data.cov()\n",
    "    sample_cov_matrices.append(sample_cov)\n",
    "    \n",
    "    # Ledoit-Wolf shrinkage estimator\n",
    "    lw = LedoitWolf(assume_centered=False)\n",
    "    lw_cov = lw.fit(window_data).covariance_\n",
    "    ledoit_wolf_cov_matrices.append(pd.DataFrame(lw_cov, index=window_data.columns, columns=window_data.columns))\n"
   ]
  },
  {
   "cell_type": "markdown",
   "metadata": {},
   "source": [
    "### Part 2: Portfolio Construction"
   ]
  },
  {
   "cell_type": "code",
   "execution_count": 28,
   "metadata": {},
   "outputs": [],
   "source": [
    "def minimum_variance_portfolio(cov_matrix):\n",
    "    \"\"\"Constructs a minimum variance portfolio given a covariance matrix.\"\"\"\n",
    "    inv_cov_matrix = np.linalg.inv(cov_matrix)\n",
    "    ones = np.ones(inv_cov_matrix.shape[0])\n",
    "    weights = inv_cov_matrix @ ones\n",
    "    weights /= weights.sum()  # Normalize weights to sum to 1\n",
    "    return weights"
   ]
  },
  {
   "cell_type": "code",
   "execution_count": null,
   "metadata": {},
   "outputs": [],
   "source": [
    "# Initialize lists to store portfolio weights\n",
    "sample_mvp_weights = []\n",
    "ledoit_wolf_mvp_weights = []\n",
    "\n",
    "# Construct MVP for each week\n",
    "for i in range(len(sample_cov_matrices)):\n",
    "    if i < len(returns) - window_size + 1:  # Ensure we have a valid covariance matrix\n",
    "        sample_cov = sample_cov_matrices[i].values\n",
    "        ledoit_cov = ledoit_wolf_cov_matrices[i].values\n",
    "\n",
    "        # print(sample_cov) # debugging statements\n",
    "        # break\n",
    "        \n",
    "        # Calculate minimum variance portfolio weights\n",
    "        sample_weights = minimum_variance_portfolio(sample_cov)\n",
    "        ledoit_weights = minimum_variance_portfolio(ledoit_cov)\n",
    "        \n",
    "        sample_mvp_weights.append(sample_weights)\n",
    "        ledoit_wolf_mvp_weights.append(ledoit_weights)\n"
   ]
  },
  {
   "cell_type": "code",
   "execution_count": 36,
   "metadata": {},
   "outputs": [],
   "source": [
    "# Convert weights to DataFrame for easier manipulation\n",
    "sample_mvp_weights = pd.DataFrame(sample_mvp_weights, columns=returns.columns)\n",
    "ledoit_wolf_mvp_weights = pd.DataFrame(ledoit_wolf_mvp_weights, columns=returns.columns)"
   ]
  },
  {
   "cell_type": "markdown",
   "metadata": {},
   "source": [
    "### Part 3: Performance Comparison"
   ]
  },
  {
   "cell_type": "code",
   "execution_count": 37,
   "metadata": {},
   "outputs": [
    {
     "name": "stdout",
     "output_type": "stream",
     "text": [
      "Sample Covariance MVP OOS Standard Deviation: 0.0253\n",
      "Ledoit-Wolf MVP OOS Standard Deviation: 0.0208\n",
      "The Ledoit-Wolf covariance matrix results in a lower OOS standard deviation.\n"
     ]
    }
   ],
   "source": [
    "# Calculate out-of-sample returns\n",
    "sample_oos_returns = (returns.iloc[window_size:] @ sample_mvp_weights.T).values\n",
    "ledoit_oos_returns = (returns.iloc[window_size:] @ ledoit_wolf_mvp_weights.T).values\n",
    "\n",
    "# Calculate standard deviation of OOS returns\n",
    "sample_std_dev = np.std(sample_oos_returns)\n",
    "ledoit_std_dev = np.std(ledoit_oos_returns)\n",
    "\n",
    "# Print results\n",
    "print(f\"Sample Covariance MVP OOS Standard Deviation: {sample_std_dev:.4f}\")\n",
    "print(f\"Ledoit-Wolf MVP OOS Standard Deviation: {ledoit_std_dev:.4f}\")\n",
    "\n",
    "# Discussion on results\n",
    "if ledoit_std_dev < sample_std_dev:\n",
    "    print(\"The Ledoit-Wolf covariance matrix results in a lower OOS standard deviation.\")\n",
    "else:\n",
    "    print(\"The sample covariance matrix results in a lower OOS standard deviation.\")\n"
   ]
  },
  {
   "cell_type": "markdown",
   "metadata": {},
   "source": [
    "#### Discussion & Interpretation of Results\n",
    "\n",
    "1. Potential cause of lower OOS standard deviation via Ledoit-Wolf Covariance Matrix\n",
    "    - Ledoit-Wolf shrinkage estimator introduces a data-driven shrinking factor that regulates influence of noise and extreme values in the data.\n",
    "    - This improves stability of estimates, without sacrificing flexibility, while adapting to complex data structures.\n",
    "    - This is achieved by introducing bias (shrinking estimates), but is outweighed by signigicant reduction in variance.\n",
    "\n",
    "2. Impact on Portfolio Risk\n",
    "    - By reducing variance, the Ledoit-Wolf covariance matrix is better at capturing underlying structure of the data, this can lead to more accurate risk estimates in a given portfolio.\n",
    "    - As mentioned in the lecture slides, the Ledoit-Wolf MVP does exhibit lower OOS voltility (std dev), hence implying a more accurate estimator.\n",
    "    - In portfolio construction, the Ledoit-Wolf approach produces a more accurate covariance matrix, resulting in weights that more correctly reflect the true risk of assets.\n",
    "\n",
    "    Thus, Ledoit-Wolf estimates often generate lower risk (lower std dev = lower volatility), that are also more robust when dealing with high dimensionality financial data. "
   ]
  }
 ],
 "metadata": {
  "kernelspec": {
   "display_name": ".venv",
   "language": "python",
   "name": "python3"
  },
  "language_info": {
   "codemirror_mode": {
    "name": "ipython",
    "version": 3
   },
   "file_extension": ".py",
   "mimetype": "text/x-python",
   "name": "python",
   "nbconvert_exporter": "python",
   "pygments_lexer": "ipython3",
   "version": "3.11.4"
  }
 },
 "nbformat": 4,
 "nbformat_minor": 2
}
