{
 "cells": [
  {
   "cell_type": "markdown",
   "metadata": {},
   "source": [
    "## Question 3 (50 Points)\n",
    "\n",
    "In this exercise, you will use weekly return data for 50 US stocks. The data is provided to you in `returns.pkl`. The objective is to construct a `minimum variance portfolio` (MVP) using two different methods to estimate the covariance matrix and evaluate the performance of the resulting portfolios.\n",
    "\n",
    "#### Instructions:\n",
    "\n",
    "1. **Covariance Estimation**: Using a rolling window of 100 weeks (including the current week), estimate the covariance matrix of stock returns every week using:\n",
    "   - The sample covariance matrix (unadjusted).\n",
    "   - The Ledoit and Wolf shrinkage estimator.\n",
    "   \n",
    "   To estimate the covariance matrix using Ledoit-Wolf shrinkage, use the `LedoitWolf` module in Python’s `sklearn.covariance`. Make sure to carefully read the documentation to understand its input requirements. The document can be found at: [LedoitWolf Documentation](https://scikit-learn.org/1.5/modules/generated/sklearn.covariance.LedoitWolf.html).\n",
    "\n",
    "2. **Portfolio Construction**: For each week, construct a minimum variance portfolio (MVP) using both covariance estimation methods. The weights of the portfolio should minimize the variance of portfolio returns, subject to the constraint that the portfolio weights sum to 1. Short positions are allowed, meaning the weights of some stocks in the portfolio can be negative. Repeat this process for each week in the dataset to generate out-of-sample (OOS) returns for both MVPs.\n",
    "\n",
    "3. **Performance Comparison**: Calculate the standard deviation of the OOS returns for both portfolios. Compare the two portfolios in terms of their OOS standard deviations. Discuss whether the portfolio constructed using the Ledoit-Wolf covariance matrix has a lower OOS standard deviation compared to the portfolio constructed using the sample covariance matrix. In your discussion, provide an interpretation of the results in terms of the accuracy of covariance matrix estimation and its impact on portfolio risk.\n",
    "\n",
    "Please submit your Python code and ensure that it is clear and well-commented.\n"
   ]
  },
  {
   "cell_type": "markdown",
   "metadata": {},
   "source": [
    "### Part 1: Covariance Estimation"
   ]
  },
  {
   "cell_type": "code",
   "execution_count": 2,
   "metadata": {},
   "outputs": [],
   "source": [
    "import pandas as pd\n",
    "import numpy as np\n",
    "from sklearn.covariance import LedoitWolf\n",
    "\n",
    "# Load the weekly return data\n",
    "returns = pd.read_pickle('returns.pkl')  # Ensure the file path is correct\n",
    "\n",
    "# Initialize variables\n",
    "window_size = 100\n",
    "sample_cov_matrices = []\n",
    "ledoit_wolf_cov_matrices = []\n",
    "\n",
    "# Rolling window covariance estimation\n",
    "for start in range(len(returns) - window_size + 1):\n",
    "    end = start + window_size\n",
    "    window_data = returns.iloc[start:end]\n",
    "    \n",
    "    # Sample covariance matrix\n",
    "    sample_cov = window_data.cov()\n",
    "    sample_cov_matrices.append(sample_cov)\n",
    "    \n",
    "    # Ledoit-Wolf shrinkage estimator\n",
    "    lw = LedoitWolf()\n",
    "    lw_cov = lw.fit(window_data).covariance_\n",
    "    ledoit_wolf_cov_matrices.append(pd.DataFrame(lw_cov, index=window_data.columns, columns=window_data.columns))\n",
    "\n",
    "# Convert to DataFrame for easier manipulation\n",
    "sample_cov_matrices = pd.concat(sample_cov_matrices, axis=0)\n",
    "ledoit_wolf_cov_matrices = pd.concat(ledoit_wolf_cov_matrices, axis=0)\n"
   ]
  },
  {
   "cell_type": "markdown",
   "metadata": {},
   "source": [
    "### Part 2: Portfolio Construction"
   ]
  },
  {
   "cell_type": "code",
   "execution_count": 3,
   "metadata": {},
   "outputs": [
    {
     "ename": "LinAlgError",
     "evalue": "1-dimensional array given. Array must be at least two-dimensional",
     "output_type": "error",
     "traceback": [
      "\u001b[1;31m---------------------------------------------------------------------------\u001b[0m",
      "\u001b[1;31mLinAlgError\u001b[0m                               Traceback (most recent call last)",
      "Cell \u001b[1;32mIn[3], line 20\u001b[0m\n\u001b[0;32m     17\u001b[0m ledoit_cov \u001b[38;5;241m=\u001b[39m ledoit_wolf_cov_matrices\u001b[38;5;241m.\u001b[39miloc[i]\u001b[38;5;241m.\u001b[39mvalues\n\u001b[0;32m     19\u001b[0m \u001b[38;5;66;03m# Calculate minimum variance portfolio weights\u001b[39;00m\n\u001b[1;32m---> 20\u001b[0m sample_weights \u001b[38;5;241m=\u001b[39m \u001b[43mminimum_variance_portfolio\u001b[49m\u001b[43m(\u001b[49m\u001b[43msample_cov\u001b[49m\u001b[43m)\u001b[49m\n\u001b[0;32m     21\u001b[0m ledoit_weights \u001b[38;5;241m=\u001b[39m minimum_variance_portfolio(ledoit_cov)\n\u001b[0;32m     23\u001b[0m sample_mvp_weights\u001b[38;5;241m.\u001b[39mappend(sample_weights)\n",
      "Cell \u001b[1;32mIn[3], line 3\u001b[0m, in \u001b[0;36mminimum_variance_portfolio\u001b[1;34m(cov_matrix)\u001b[0m\n\u001b[0;32m      1\u001b[0m \u001b[38;5;28;01mdef\u001b[39;00m \u001b[38;5;21mminimum_variance_portfolio\u001b[39m(cov_matrix):\n\u001b[0;32m      2\u001b[0m \u001b[38;5;250m    \u001b[39m\u001b[38;5;124;03m\"\"\"Constructs a minimum variance portfolio given a covariance matrix.\"\"\"\u001b[39;00m\n\u001b[1;32m----> 3\u001b[0m     inv_cov_matrix \u001b[38;5;241m=\u001b[39m \u001b[43mnp\u001b[49m\u001b[38;5;241;43m.\u001b[39;49m\u001b[43mlinalg\u001b[49m\u001b[38;5;241;43m.\u001b[39;49m\u001b[43minv\u001b[49m\u001b[43m(\u001b[49m\u001b[43mcov_matrix\u001b[49m\u001b[43m)\u001b[49m\n\u001b[0;32m      4\u001b[0m     ones \u001b[38;5;241m=\u001b[39m np\u001b[38;5;241m.\u001b[39mones(inv_cov_matrix\u001b[38;5;241m.\u001b[39mshape[\u001b[38;5;241m0\u001b[39m])\n\u001b[0;32m      5\u001b[0m     weights \u001b[38;5;241m=\u001b[39m inv_cov_matrix \u001b[38;5;241m@\u001b[39m ones\n",
      "File \u001b[1;32mc:\\Users\\Z4N3R\\OneDrive\\Desktop\\Documents\\GitHub\\STA4020-Stat-Modelling-in-Finance-Markets\\.venv\\Lib\\site-packages\\numpy\\linalg\\_linalg.py:608\u001b[0m, in \u001b[0;36minv\u001b[1;34m(a)\u001b[0m\n\u001b[0;32m    501\u001b[0m \u001b[38;5;250m\u001b[39m\u001b[38;5;124;03m\"\"\"\u001b[39;00m\n\u001b[0;32m    502\u001b[0m \u001b[38;5;124;03mCompute the inverse of a matrix.\u001b[39;00m\n\u001b[0;32m    503\u001b[0m \n\u001b[1;32m   (...)\u001b[0m\n\u001b[0;32m    605\u001b[0m \n\u001b[0;32m    606\u001b[0m \u001b[38;5;124;03m\"\"\"\u001b[39;00m\n\u001b[0;32m    607\u001b[0m a, wrap \u001b[38;5;241m=\u001b[39m _makearray(a)\n\u001b[1;32m--> 608\u001b[0m \u001b[43m_assert_stacked_2d\u001b[49m\u001b[43m(\u001b[49m\u001b[43ma\u001b[49m\u001b[43m)\u001b[49m\n\u001b[0;32m    609\u001b[0m _assert_stacked_square(a)\n\u001b[0;32m    610\u001b[0m t, result_t \u001b[38;5;241m=\u001b[39m _commonType(a)\n",
      "File \u001b[1;32mc:\\Users\\Z4N3R\\OneDrive\\Desktop\\Documents\\GitHub\\STA4020-Stat-Modelling-in-Finance-Markets\\.venv\\Lib\\site-packages\\numpy\\linalg\\_linalg.py:195\u001b[0m, in \u001b[0;36m_assert_stacked_2d\u001b[1;34m(*arrays)\u001b[0m\n\u001b[0;32m    193\u001b[0m \u001b[38;5;28;01mfor\u001b[39;00m a \u001b[38;5;129;01min\u001b[39;00m arrays:\n\u001b[0;32m    194\u001b[0m     \u001b[38;5;28;01mif\u001b[39;00m a\u001b[38;5;241m.\u001b[39mndim \u001b[38;5;241m<\u001b[39m \u001b[38;5;241m2\u001b[39m:\n\u001b[1;32m--> 195\u001b[0m         \u001b[38;5;28;01mraise\u001b[39;00m LinAlgError(\u001b[38;5;124m'\u001b[39m\u001b[38;5;132;01m%d\u001b[39;00m\u001b[38;5;124m-dimensional array given. Array must be \u001b[39m\u001b[38;5;124m'\u001b[39m\n\u001b[0;32m    196\u001b[0m                 \u001b[38;5;124m'\u001b[39m\u001b[38;5;124mat least two-dimensional\u001b[39m\u001b[38;5;124m'\u001b[39m \u001b[38;5;241m%\u001b[39m a\u001b[38;5;241m.\u001b[39mndim)\n",
      "\u001b[1;31mLinAlgError\u001b[0m: 1-dimensional array given. Array must be at least two-dimensional"
     ]
    }
   ],
   "source": [
    "def minimum_variance_portfolio(cov_matrix):\n",
    "    \"\"\"Constructs a minimum variance portfolio given a covariance matrix.\"\"\"\n",
    "    inv_cov_matrix = np.linalg.inv(cov_matrix)\n",
    "    ones = np.ones(inv_cov_matrix.shape[0])\n",
    "    weights = inv_cov_matrix @ ones\n",
    "    weights /= weights.sum()  # Normalize weights to sum to 1\n",
    "    return weights\n",
    "\n",
    "# Initialize lists to store portfolio weights\n",
    "sample_mvp_weights = []\n",
    "ledoit_wolf_mvp_weights = []\n",
    "\n",
    "# Construct MVP for each week\n",
    "for i in range(len(sample_cov_matrices)):\n",
    "    if i < len(returns) - window_size + 1:  # Ensure we have a valid covariance matrix\n",
    "        sample_cov = sample_cov_matrices.iloc[i].values\n",
    "        ledoit_cov = ledoit_wolf_cov_matrices.iloc[i].values\n",
    "        \n",
    "        # Calculate minimum variance portfolio weights\n",
    "        sample_weights = minimum_variance_portfolio(sample_cov)\n",
    "        ledoit_weights = minimum_variance_portfolio(ledoit_cov)\n",
    "        \n",
    "        sample_mvp_weights.append(sample_weights)\n",
    "        ledoit_wolf_mvp_weights.append(ledoit_weights)\n",
    "\n",
    "# Convert weights to DataFrame for easier manipulation\n",
    "sample_mvp_weights = pd.DataFrame(sample_mvp_weights, columns=returns.columns)\n",
    "ledoit_wolf_mvp_weights = pd.DataFrame(ledoit_wolf_mvp_weights, columns=returns.columns)\n"
   ]
  },
  {
   "cell_type": "markdown",
   "metadata": {},
   "source": [
    "### Part 3: Performance Comparison"
   ]
  },
  {
   "cell_type": "code",
   "execution_count": null,
   "metadata": {},
   "outputs": [],
   "source": [
    "# Calculate out-of-sample returns\n",
    "sample_oos_returns = (returns.iloc[window_size:] @ sample_mvp_weights.T).values\n",
    "ledoit_oos_returns = (returns.iloc[window_size:] @ ledoit_wolf_mvp_weights.T).values\n",
    "\n",
    "# Calculate standard deviation of OOS returns\n",
    "sample_std_dev = np.std(sample_oos_returns)\n",
    "ledoit_std_dev = np.std(ledoit_oos_returns)\n",
    "\n",
    "# Print results\n",
    "print(f\"Sample Covariance MVP OOS Standard Deviation: {sample_std_dev:.4f}\")\n",
    "print(f\"Ledoit-Wolf MVP OOS Standard Deviation: {ledoit_std_dev:.4f}\")\n",
    "\n",
    "# Discussion on results\n",
    "if ledoit_std_dev < sample_std_dev:\n",
    "    print(\"The Ledoit-Wolf covariance matrix results in a lower OOS standard deviation.\")\n",
    "else:\n",
    "    print(\"The sample covariance matrix results in a lower OOS standard deviation.\")\n"
   ]
  }
 ],
 "metadata": {
  "kernelspec": {
   "display_name": ".venv",
   "language": "python",
   "name": "python3"
  },
  "language_info": {
   "codemirror_mode": {
    "name": "ipython",
    "version": 3
   },
   "file_extension": ".py",
   "mimetype": "text/x-python",
   "name": "python",
   "nbconvert_exporter": "python",
   "pygments_lexer": "ipython3",
   "version": "3.11.4"
  }
 },
 "nbformat": 4,
 "nbformat_minor": 2
}
