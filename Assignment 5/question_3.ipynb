{
 "cells": [
  {
   "cell_type": "markdown",
   "metadata": {},
   "source": [
    "## Question 3 (50 Points)\n",
    "\n",
    "In this exercise, you will use weekly return data for 50 US stocks. The data is provided to you in `returns.pkl`. The objective is to construct a `minimum variance portfolio` (MVP) using two different methods to estimate the covariance matrix and evaluate the performance of the resulting portfolios.\n",
    "\n",
    "#### Instructions:\n",
    "\n",
    "1. **Covariance Estimation**: Using a rolling window of 100 weeks (including the current week), estimate the covariance matrix of stock returns every week using:\n",
    "   - The sample covariance matrix (unadjusted).\n",
    "   - The Ledoit and Wolf shrinkage estimator.\n",
    "   \n",
    "   To estimate the covariance matrix using Ledoit-Wolf shrinkage, use the `LedoitWolf` module in Python’s `sklearn.covariance`. Make sure to carefully read the documentation to understand its input requirements. The document can be found at: [LedoitWolf Documentation](https://scikit-learn.org/1.5/modules/generated/sklearn.covariance.LedoitWolf.html).\n",
    "\n",
    "2. **Portfolio Construction**: For each week, construct a minimum variance portfolio (MVP) using both covariance estimation methods. The weights of the portfolio should minimize the variance of portfolio returns, subject to the constraint that the portfolio weights sum to 1. Short positions are allowed, meaning the weights of some stocks in the portfolio can be negative. Repeat this process for each week in the dataset to generate out-of-sample (OOS) returns for both MVPs.\n",
    "\n",
    "3. **Performance Comparison**: Calculate the standard deviation of the OOS returns for both portfolios. Compare the two portfolios in terms of their OOS standard deviations. Discuss whether the portfolio constructed using the Ledoit-Wolf covariance matrix has a lower OOS standard deviation compared to the portfolio constructed using the sample covariance matrix. In your discussion, provide an interpretation of the results in terms of the accuracy of covariance matrix estimation and its impact on portfolio risk.\n",
    "\n",
    "Please submit your Python code and ensure that it is clear and well-commented.\n"
   ]
  }
 ],
 "metadata": {
  "language_info": {
   "name": "python"
  }
 },
 "nbformat": 4,
 "nbformat_minor": 2
}
