{
 "cells": [
  {
   "cell_type": "markdown",
   "metadata": {},
   "source": [
    "# Problem Set 1\n",
    "### Code notebook for relevant questions"
   ]
  },
  {
   "cell_type": "markdown",
   "metadata": {
    "vscode": {
     "languageId": "plaintext"
    }
   },
   "source": [
    "# Problem 3 (20 Points)\n",
    "\n",
    "You are given a data set that includes wages, education status, and years of experience for 20 individuals. The education status is categorized into two groups: College and Non-College. Your task is to analyze the relationship between education, years of experience, and wage using OLS. The data set is provided in Table 1.\n",
    "\n",
    "## Table 1: Sample Data for Problem 3\n",
    "\n",
    "| Wage ($) | Education  | Years of Experience |\n",
    "|----------|------------|---------------------|\n",
    "| 55       | College    | 5                   |\n",
    "| 67       | College    | 11                  |\n",
    "| 60       | College    | 7                   |\n",
    "| 63       | College    | 9                   |\n",
    "| 58       | College    | 6                   |\n",
    "| 65       | College    | 10                  |\n",
    "| 62       | College    | 8                   |\n",
    "| 61       | College    | 8                   |\n",
    "| 64       | College    | 9                   |\n",
    "| 66       | College    | 10                  |\n",
    "| 45       | Non-College| 4                   |\n",
    "| 49       | Non-College| 5                   |\n",
    "| 44       | Non-College| 2                   |\n",
    "| 48       | Non-College| 4                   |\n",
    "| 50       | Non-College| 5                   |\n",
    "| 46       | Non-College| 3                   |\n",
    "| 46       | Non-College| 3                   |\n",
    "| 47       | Non-College| 3                   |\n",
    "| 42       | Non-College| 1                   |\n",
    "| 43       | Non-College| 2                   |\n",
    "\n",
    "## Task\n",
    "\n",
    "1. Using Python, estimate the regression model with wage as the dependent variable and both education and years of experience as the independent variables (as well as an intercept!). **Hint:** Education serves as a dummy variable.\n",
    "\n",
    "2. Interpretation:\n",
    "   - What does the coefficient for the dummy variable (education) tell you about the difference in wages between college-educated and non-college-educated individuals, holding experience constant?\n",
    "   - What does the coefficient for experience tell you about how wages increase with experience, holding education constant?\n",
    "\n",
    "3. Predict the expected wage for:\n",
    "   - A college-educated individual with 6 years of experience.\n",
    "   - A non-college-educated individual with 4 years of experience.\n",
    "\n"
   ]
  },
  {
   "cell_type": "code",
   "execution_count": 1,
   "metadata": {},
   "outputs": [
    {
     "name": "stdout",
     "output_type": "stream",
     "text": [
      "                            OLS Regression Results                            \n",
      "==============================================================================\n",
      "Dep. Variable:                   Wage   R-squared:                       0.992\n",
      "Model:                            OLS   Adj. R-squared:                  0.991\n",
      "Method:                 Least Squares   F-statistic:                     1004.\n",
      "Date:                Thu, 12 Sep 2024   Prob (F-statistic):           2.27e-18\n",
      "Time:                        00:38:20   Log-Likelihood:                -23.628\n",
      "No. Observations:                  20   AIC:                             53.26\n",
      "Df Residuals:                      17   BIC:                             56.24\n",
      "Df Model:                           2                                         \n",
      "Covariance Type:            nonrobust                                         \n",
      "=======================================================================================\n",
      "                          coef    std err          t      P>|t|      [0.025      0.975]\n",
      "---------------------------------------------------------------------------------------\n",
      "const                  39.9153      0.480     83.191      0.000      38.903      40.928\n",
      "Education               6.4025      0.738      8.671      0.000       4.845       7.960\n",
      "Years of Experience     1.9015      0.124     15.354      0.000       1.640       2.163\n",
      "==============================================================================\n",
      "Omnibus:                       13.961   Durbin-Watson:                   1.888\n",
      "Prob(Omnibus):                  0.001   Jarque-Bera (JB):               13.330\n",
      "Skew:                          -1.385   Prob(JB):                      0.00128\n",
      "Kurtosis:                       5.885   Cond. No.                         27.4\n",
      "==============================================================================\n",
      "\n",
      "Notes:\n",
      "[1] Standard Errors assume that the covariance matrix of the errors is correctly specified.\n",
      "Education Coefficient: 6.402515723270483\n",
      "Experience Coefficient: 1.9014675052410865\n",
      "Predicted wage for a college-educated individual with 6 years of experience: $57.73\n",
      "Predicted wage for a non-college-educated individual with 4 years of experience: $47.52\n"
     ]
    }
   ],
   "source": [
    "import pandas as pd\n",
    "import statsmodels.api as sm\n",
    "\n",
    "# data from problem 3\n",
    "data = {\n",
    "    'Wage': [55, 67, 60, 63, 58, 65, 62, 61, 64, 66, 45, 49, 44, 48, 50, 46, 46, 47, 42, 43],\n",
    "    'Education': ['College']*10 + ['Non-College']*10,\n",
    "    'Years of Experience': [5, 11, 7, 9, 6, 10, 8, 8, 9, 10, 4, 5, 2, 4, 5, 3, 3, 3, 1, 2]\n",
    "}\n",
    "\n",
    "# Create DataFrame\n",
    "df = pd.DataFrame(data)\n",
    "\n",
    "# Convert 'Education' to dummy variable using one-hot encoding\n",
    "# 1 - College, 0 - Non-College\n",
    "df['Education'] = df['Education'].apply(lambda x: 1 if x == 'College' else 0)\n",
    "\n",
    "# Define dependent and independent variables\n",
    "X = df[['Education', 'Years of Experience']]\n",
    "X = sm.add_constant(X)  # Adds a constant term to the predictor\n",
    "y = df['Wage']\n",
    "\n",
    "# Fit the OLS model\n",
    "model = sm.OLS(y, X).fit()\n",
    "\n",
    "# Print the summary of the regression\n",
    "print(model.summary())\n",
    "\n",
    "# Interpretation\n",
    "education_coef = model.params['Education']\n",
    "experience_coef = model.params['Years of Experience']\n",
    "\n",
    "print(f\"Education Coefficient: {education_coef}\")\n",
    "print(f\"Experience Coefficient: {experience_coef}\")\n",
    "\n",
    "# Predictions\n",
    "# 1\n",
    "college_6_years = model.predict([1, 1, 6])[0]  # Intercept, College, 6 years\n",
    "# 2\n",
    "non_college_4_years = model.predict([1, 0, 4])[0]  # Intercept, Non-College, 4 years\n",
    "\n",
    "print(f\"Predicted wage for a college-educated individual with 6 years of experience: ${college_6_years:.2f}\")\n",
    "print(f\"Predicted wage for a non-college-educated individual with 4 years of experience: ${non_college_4_years:.2f}\")"
   ]
  },
  {
   "cell_type": "markdown",
   "metadata": {},
   "source": [
    "### Response & Answers\n",
    "\n",
    "The coefficient for the dummy variable (education) is `6.4025`. This tells us that, holding years of experience constant, college-educated individuals earn, on average, `$6.40` more per hour than non-college-educated individuals _(assuming the data provided measures wage in terms of hourly wages)_. This coefficient represents the average wage premium associated with having a college education.\n",
    "\n",
    "To further interpret this result, we should check the statistical significance of the coefficient. If the `p-value` associated with the education coefficient is less than `0.05`, we can conclude that the difference in wages between college-educated and non-college-educated individuals is statistically significant.\n",
    "\n",
    "Additionally, it is important to consider the R-squared value of the model to understand how well the model explains the variability in wages. A higher R-squared value indicates a better fit of the model to the data.\n"
   ]
  },
  {
   "cell_type": "markdown",
   "metadata": {},
   "source": [
    "**Code to check significance and R-sq values**"
   ]
  },
  {
   "cell_type": "code",
   "execution_count": 3,
   "metadata": {},
   "outputs": [
    {
     "name": "stdout",
     "output_type": "stream",
     "text": [
      "P-value for Education Coefficient: 1.1991195013600496e-07\n",
      "R-squared: 0.9916020815863917\n",
      "Adjusted R-squared: 0.9906140911847907\n"
     ]
    }
   ],
   "source": [
    "# Extract p-value for the education coefficient\n",
    "education_p_value = model.pvalues['Education']\n",
    "print(f\"P-value for Education Coefficient: {education_p_value}\")\n",
    "\n",
    "# Extract R-squared value\n",
    "r_squared = model.rsquared\n",
    "print(f\"R-squared: {r_squared}\")\n",
    "\n",
    "# Extract Adjusted R-squared value as well\n",
    "adj_r_squared = model.rsquared_adj\n",
    "print(f\"Adjusted R-squared: {adj_r_squared}\")"
   ]
  },
  {
   "cell_type": "markdown",
   "metadata": {},
   "source": [
    "The coefficient for the education variable is indeed significant since the p-value associated with it is less than `0.05`. This indicates that there is a statistically significant difference in wages between college-educated and non-college-educated individuals, holding experience constant.\n",
    "\n",
    "Furthermore, the high R-squared value of `0.991` and the adjusted R-squared value of `0.992` indicate that the model is a good fit for the data. These values suggest that the model explains approximately 99% of the variability in wages, indicating a strong relationship between the independent variables (education and experience) and the dependent variable (wage)."
   ]
  },
  {
   "cell_type": "markdown",
   "metadata": {},
   "source": [
    "### Some Notes and Learning\n",
    "\n",
    "Adding a constant term to the predictor in a regression model is important for the following reasons:\n",
    "\n",
    "1. Intercept Estimation: The constant term (intercept) allows the model to estimate the baseline value of the dependent variable when all independent variables are zero. Without it, the model is forced to pass through the origin (0,0), which may not be appropriate for the data.\n",
    "\n",
    "2. Model Flexibility: Including a constant term increases the flexibility of the model, allowing it to fit the data better by adjusting the baseline level.\n",
    "\n",
    "3. Bias Reduction: It helps in reducing bias in the estimation of the coefficients of the independent variables.\n",
    "\n",
    "4. Statistical Properties: Many statistical properties and tests assume that the model includes an intercept.\n",
    "\n",
    "reference line of code: \n",
    "</br>\n",
    "`X = sm.add_constant(X)  # Adds a constant term to the predictor`\n",
    "\n",
    "TLDR: \n",
    "- This line adds a column of ones to the predictor matrix X, which represents the intercept term in the regression model. This allows the model to estimate the baseline wage when both Education and Years of Experience are zero."
   ]
  }
 ],
 "metadata": {
  "kernelspec": {
   "display_name": ".venv",
   "language": "python",
   "name": "python3"
  },
  "language_info": {
   "codemirror_mode": {
    "name": "ipython",
    "version": 3
   },
   "file_extension": ".py",
   "mimetype": "text/x-python",
   "name": "python",
   "nbconvert_exporter": "python",
   "pygments_lexer": "ipython3",
   "version": "3.11.4"
  }
 },
 "nbformat": 4,
 "nbformat_minor": 2
}
