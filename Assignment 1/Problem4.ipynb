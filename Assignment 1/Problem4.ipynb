{
 "cells": [
  {
   "cell_type": "markdown",
   "metadata": {},
   "source": [
    "# Best-Practices Handbook: Addressing Multicollinearity in Regression Modeling\n",
    "\n",
    "## 1. Definition\n",
    "**Multicollinearity** occurs when two or more independent variables in a regression model are highly correlated, leading to unreliable estimates of the coefficients. Mathematically, if $X_1, X_2, \\ldots, X_k$ are the independent variables, multicollinearity is present if:\n",
    "\n",
    "$$\n",
    "\\text{Corr}(X_i, X_j) \\approx 1 \\quad \\text{or} \\quad \\text{Corr}(X_i, X_j) \\approx -1 \\quad \\text{for } i \\neq j\n",
    "$$\n",
    "\n",
    "This results in inflated standard errors for the coefficients, making hypothesis tests unreliable.\n",
    "\n",
    "## 2. Description\n",
    "Multicollinearity complicates the interpretation of regression coefficients, as it becomes difficult to determine the individual effect of each predictor on the dependent variable. It can lead to unstable estimates and reduced statistical power.\n",
    "\n",
    "## 3. Demonstration\n",
    "### Numerical Example\n",
    "Consider a simulated dataset with three independent variables $X_1$, $X_2$, and $X_3$:\n",
    "\n",
    "```python\n",
    "import numpy as np\n",
    "import pandas as pd\n",
    "import statsmodels.api as sm\n",
    "import seaborn as sns\n",
    "import matplotlib.pyplot as plt\n",
    "\n",
    "# Simulating data\n",
    "np.random.seed(0)\n",
    "X1 = np.random.normal(0, 1, 100)\n",
    "X2 = X1 + np.random.normal(0, 0.1, 100)  # Highly correlated with X1\n",
    "X3 = np.random.normal(0, 1, 100)\n",
    "Y = 3 + 2 * X1 + np.random.normal(0, 1, 100)\n",
    "\n",
    "data = pd.DataFrame({'Y': Y, 'X1': X1, 'X2': X2, 'X3': X3})\n",
    "\n",
    "# Fitting a regression model\n",
    "X = sm.add_constant(data[['X1', 'X2', 'X3']])\n",
    "model = sm.OLS(data['Y'], X).fit()\n",
    "print(model.summary())\n",
    "```\n",
    "\n",
    "### Visual Example\n",
    "```python\n",
    "# Visualizing the correlation matrix\n",
    "correlation_matrix = data.corr()\n",
    "sns.heatmap(correlation_matrix, annot=True, cmap='coolwarm')\n",
    "plt.title('Correlation Matrix')\n",
    "plt.show()\n",
    "```\n",
    "\n",
    "### Output Interpretation\n",
    "The regression summary will likely show high standard errors for $X_1$ and $X_2$ due to their multicollinearity, and the correlation matrix will indicate a strong correlation between $X_1$ and $X_2$\n",
    "\n",
    "## 4. Diagnosis\n",
    "To identify multicollinearity, you can use:\n",
    "\n",
    "- **Variance Inflation Factor (VIF)**: A VIF value greater than `5` is often taken as an indication of *_severe_* multicollinearity. While a VIF value between `1` and `5` indicates no severe multicollinearity issue\n",
    "  \n",
    "$$\n",
    "VIF_i = \\frac{1}{1 - R^2_i}\n",
    "$$\n",
    "\n",
    "Where $R^2_i$ is the R-squared value obtained by regressing the $i$-th independent variable against all other independent variables.\n",
    "\n",
    "### Example Code for VIF\n",
    "```python\n",
    "from statsmodels.stats.outliers_influence import variance_inflation_factor\n",
    "\n",
    "vif_data = pd.DataFrame()\n",
    "vif_data[\"Feature\"] = X.columns\n",
    "vif_data[\"VIF\"] = [variance_inflation_factor(X.values, i) for i in range(X.shape[1])]\n",
    "print(vif_data)\n",
    "```\n",
    "\n",
    "## 5. Discussion\n",
    "### Consequences\n",
    "The presence of multicollinearity can:\n",
    "- Lead to large standard errors, making hypothesis tests unreliable.\n",
    "- Cause coefficients to change dramatically with small changes in the model or data.\n",
    "\n",
    "### Techniques to Address Multicollinearity\n",
    "1. **Remove Variables**: Consider removing one of the correlated variables.\n",
    "2. **Combine Variables**: Create composite indices or use principal component analysis (PCA) to reduce dimensionality.\n",
    "3. **Regularization Techniques**: Use Lasso or Ridge regression, which can handle multicollinearity by adding a penalty term to the loss function.\n",
    "\n",
    "### Practical Recommendations\n",
    "- Always check for multicollinearity using VIF before finalizing your regression model.\n",
    "- If multicollinearity is detected, consider the context of the variables and choose the most relevant ones for your analysis.\n",
    "\n",
    "## References\n",
    "- Kutner, M. H., Nachtsheim, C. J., Neter, J., & Li, W. (2004). *Applied Linear Statistical Models*. McGraw-Hill.\n",
    "- James, G., Witten, D., Hastie, T., & Tibshirani, R. (2013). *An Introduction to Statistical Learning*. Springer."
   ]
  },
  {
   "cell_type": "code",
   "execution_count": 1,
   "metadata": {},
   "outputs": [
    {
     "name": "stdout",
     "output_type": "stream",
     "text": [
      "                            OLS Regression Results                            \n",
      "==============================================================================\n",
      "Dep. Variable:                      Y   R-squared:                       0.821\n",
      "Model:                            OLS   Adj. R-squared:                  0.816\n",
      "Method:                 Least Squares   F-statistic:                     147.1\n",
      "Date:                Thu, 12 Sep 2024   Prob (F-statistic):           9.06e-36\n",
      "Time:                        13:28:25   Log-Likelihood:                -133.20\n",
      "No. Observations:                 100   AIC:                             274.4\n",
      "Df Residuals:                      96   BIC:                             284.8\n",
      "Df Model:                           3                                         \n",
      "Covariance Type:            nonrobust                                         \n",
      "==============================================================================\n",
      "                 coef    std err          t      P>|t|      [0.025      0.975]\n",
      "------------------------------------------------------------------------------\n",
      "const          2.8091      0.094     29.818      0.000       2.622       2.996\n",
      "X1             1.2204      0.926      1.318      0.191      -0.617       3.058\n",
      "X2             0.7073      0.911      0.776      0.439      -1.101       2.516\n",
      "X3             0.1251      0.099      1.268      0.208      -0.071       0.321\n",
      "==============================================================================\n",
      "Omnibus:                        0.370   Durbin-Watson:                   2.076\n",
      "Prob(Omnibus):                  0.831   Jarque-Bera (JB):                0.537\n",
      "Skew:                           0.070   Prob(JB):                        0.765\n",
      "Kurtosis:                       2.670   Cond. No.                         20.0\n",
      "==============================================================================\n",
      "\n",
      "Notes:\n",
      "[1] Standard Errors assume that the covariance matrix of the errors is correctly specified.\n"
     ]
    }
   ],
   "source": [
    "import numpy as np\n",
    "import pandas as pd\n",
    "import statsmodels.api as sm\n",
    "import seaborn as sns\n",
    "import matplotlib.pyplot as plt\n",
    "\n",
    "# Simulating data\n",
    "np.random.seed(0)\n",
    "X1 = np.random.normal(0, 1, 100)\n",
    "X2 = X1 + np.random.normal(0, 0.1, 100)  # Highly correlated with X1\n",
    "X3 = np.random.normal(0, 1, 100)\n",
    "Y = 3 + 2 * X1 + np.random.normal(0, 1, 100)\n",
    "\n",
    "data = pd.DataFrame({'Y': Y, 'X1': X1, 'X2': X2, 'X3': X3})\n",
    "\n",
    "# Fitting a regression model\n",
    "X = sm.add_constant(data[['X1', 'X2', 'X3']])\n",
    "model = sm.OLS(data['Y'], X).fit()\n",
    "print(model.summary())"
   ]
  },
  {
   "cell_type": "code",
   "execution_count": 2,
   "metadata": {},
   "outputs": [
    {
     "data": {
      "image/png": "[encoded data removed]",
      "text/plain": [
       "<Figure size 640x480 with 2 Axes>"
      ]
     },
     "metadata": {},
     "output_type": "display_data"
    }
   ],
   "source": [
    "# Visualizing the correlation matrix\n",
    "correlation_matrix = data.corr()\n",
    "sns.heatmap(correlation_matrix, annot=True, cmap='coolwarm')\n",
    "plt.title('Correlation Matrix')\n",
    "plt.show()"
   ]
  },
  {
   "cell_type": "code",
   "execution_count": 3,
   "metadata": {},
   "outputs": [
    {
     "name": "stdout",
     "output_type": "stream",
     "text": [
      "  Feature        VIF\n",
      "0   const   1.013836\n",
      "1      X1  99.465752\n",
      "2      X2  99.534999\n",
      "3      X3   1.008147\n"
     ]
    }
   ],
   "source": [
    "from statsmodels.stats.outliers_influence import variance_inflation_factor\n",
    "\n",
    "vif_data = pd.DataFrame()\n",
    "vif_data[\"Feature\"] = X.columns\n",
    "vif_data[\"VIF\"] = [variance_inflation_factor(X.values, i) for i in range(X.shape[1])]\n",
    "print(vif_data)"
   ]
  }
 ],
 "metadata": {
  "kernelspec": {
   "display_name": "Python 3",
   "language": "python",
   "name": "python3"
  },
  "language_info": {
   "codemirror_mode": {
    "name": "ipython",
    "version": 3
   },
   "file_extension": ".py",
   "mimetype": "text/x-python",
   "name": "python",
   "nbconvert_exporter": "python",
   "pygments_lexer": "ipython3",
   "version": "3.11.4"
  }
 },
 "nbformat": 4,
 "nbformat_minor": 4
}
