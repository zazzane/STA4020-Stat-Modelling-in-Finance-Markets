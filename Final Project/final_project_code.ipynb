{
 "cells": [
  {
   "cell_type": "markdown",
   "metadata": {},
   "source": [
    "# STA4020 Final Project\n",
    "### Objective:\n",
    "- explore the practical applications of asset allocation methodologies in constructing and evaluating investment portfolios. \n",
    "\n",
    "### Aims:\n",
    "- The project aims to help you apply the following key concepts:\n",
    "    - mean-variance optimization (MVO)\n",
    "    - equal-weighted portfolios (1/N)\n",
    "    - the BlackLitterman model for incorporating views. \n",
    "\n",
    "</br>\n",
    "The focus is on analyzing the performance of portfolios both in-sample and out-of-sample, under the given constraints."
   ]
  },
  {
   "cell_type": "markdown",
   "metadata": {},
   "source": [
    "### Step 1: Data Collection\n",
    "\n",
    "This reports uses the following 5 stocks in the chosen portfolio. The original data is a 5-year dataset counting backwards from December 2024. The data contains daily open-close prices of the stock.\n",
    "\n",
    "**Portfolio Construction:**\n",
    "1) Visa Inc. (V)\n",
    "2) Mastercard Inc. (MA)\n",
    "3) American Express Company (AXP)\n",
    "4) Palantir Technologies Inc (PLTR)\n",
    "5) NIO Inc. (NIO)"
   ]
  },
  {
   "cell_type": "code",
   "execution_count": null,
   "metadata": {},
   "outputs": [],
   "source": [
    "import pandas as pd\n",
    "\n",
    "# Define the ticker symbols\n",
    "tickers = ['pltr', 'nio', 'v', 'ma', 'axp']\n",
    "\n",
    "# Initialize a dictionary to store the data\n",
    "stock_data = {}\n",
    "\n",
    "# Loop through each ticker symbol and read the corresponding CSV file\n",
    "for ticker in tickers:\n",
    "    file_name = f\"{ticker}_quotes.csv\"  # Construct the file name\n",
    "    stock_data[ticker] = pd.read_csv(file_name)  # Read the CSV file and store in dictionary\n",
    "\n",
    "# Accessing individual stock data\n",
    "pltr_data = stock_data['pltr']\n",
    "nio_data = stock_data['nio']\n",
    "v_data = stock_data['v']\n",
    "ma_data = stock_data['ma']\n",
    "axp_data = stock_data['axp']"
   ]
  },
  {
   "cell_type": "markdown",
   "metadata": {},
   "source": [
    "**Data preprocessing steps:**\n",
    "1) Check (and remove) any missing values\n",
    "2) Truncate the 5 year history into a 2 year and 3 months history\n",
    "    - `3 months`: Sept 2024 - Nov 2024\n",
    "    - `2 years`: Aug 2022 - Aug 2024\n",
    "3) Convert String values to Float (due to the `$` character)\n",
    "4) Add `Returns` and `% Returns` column for the processed data\n",
    "5) Partition the datasets into In-Sample and Out-Sample\n",
    "    - `in_sample`: 2 years of previous data\n",
    "    - `out_sample`: 3 months of latest data\n",
    "\n",
    "**Formulae used for computing `Returns` and `% Returns`:**\n",
    "1. **Daily Return (in dollars)**:\n",
    "   $$\\text{Daily Return} = (P_{\\text{closing}} - P_{\\text{opening}}) $$\n",
    "   where:\n",
    "   - $ P_{\\text{closing}} $ = closing price\n",
    "   - $ P_{\\text{opening}} $ = opening price\n",
    "\n",
    "2. **Percentage Return**:\n",
    "   $$\\text{Percentage Return} = \\left( \\frac{P_{\\text{closing}} - P_{\\text{opening}}}{P_{\\text{opening}}} \\right) \\times 100$$\n",
    "\n",
    "\n",
    "*note that in our dataframes, the `% Returns` columns are kept as a value between 0 & 1"
   ]
  },
  {
   "cell_type": "code",
   "execution_count": null,
   "metadata": {},
   "outputs": [
    {
     "name": "stdout",
     "output_type": "stream",
     "text": [
      "All datasets do not have null values.\n"
     ]
    }
   ],
   "source": [
    "# Check for null values in each stock data\n",
    "null_checks = {\n",
    "    \"Palantir\": pltr_data.isnull().sum().sum(),\n",
    "    \"NIO\": nio_data.isnull().sum().sum(),\n",
    "    \"Visa\": v_data.isnull().sum().sum(),\n",
    "    \"Mastercard\": ma_data.isnull().sum().sum(),\n",
    "    \"American Express\": axp_data.isnull().sum().sum()\n",
    "}\n",
    "\n",
    "all_datasets_valid = True\n",
    "\n",
    "for company, null_count in null_checks.items():\n",
    "    if null_count > 0:\n",
    "        print(f\"{company} DataFrame has {null_count} null values.\")\n",
    "        all_datasets_valid = False\n",
    "\n",
    "if all_datasets_valid:\n",
    "    print(\"All datasets do not have null values.\")"
   ]
  },
  {
   "cell_type": "markdown",
   "metadata": {},
   "source": [
    "Here we define some preprocessing functions"
   ]
  },
  {
   "cell_type": "code",
   "execution_count": 34,
   "metadata": {},
   "outputs": [],
   "source": [
    "# Define function to convert the 'Date' column to datetime format\n",
    "def convert_to_datetime(data):\n",
    "    data['Date'] = pd.to_datetime(data['Date'])\n",
    "    return data\n",
    "\n",
    "# Define function to keep all rows within a specified date range and reindex the dataframe\n",
    "def filter_by_date(data, start_date, end_date):\n",
    "    data = data[(data['Date'] >= start_date) & (data['Date'] <= end_date)]\n",
    "    data = data.reset_index(drop=True)\n",
    "    return data\n",
    "\n",
    "# Define function to remove '$' character from the selected columns and convert the remaining values to float\n",
    "def clean_currency(x):\n",
    "    if isinstance(x, str):\n",
    "        return x.replace('$', '').replace(',', '')\n",
    "    return x\n",
    "\n",
    "# Define the columns to clean\n",
    "columns_to_clean = ['Close/Last', 'Open', 'High', 'Low']\n",
    "\n",
    "# Define function to calculate Returns and % Returns\n",
    "def calculate_returns(data):\n",
    "    data['Returns'] = data['Open'].astype(float) - data['Close/Last'].astype(float)\n",
    "    data['% Returns'] = data['Returns'] / data['Open'].astype(float)\n",
    "    return data"
   ]
  },
  {
   "cell_type": "markdown",
   "metadata": {},
   "source": [
    "Then we apply these functions onto our datasets"
   ]
  },
  {
   "cell_type": "code",
   "execution_count": 35,
   "metadata": {},
   "outputs": [],
   "source": [
    "# Apply the functions to each stock data and update the dictionary\n",
    "for ticker in tickers:\n",
    "    stock_data[ticker] = convert_to_datetime(stock_data[ticker])\n",
    "    stock_data[ticker] = filter_by_date(stock_data[ticker], '2022-08-01', '2024-11-30')\n",
    "    stock_data[ticker][columns_to_clean] = stock_data[ticker][columns_to_clean].map(clean_currency)\n",
    "    stock_data[ticker] = calculate_returns(stock_data[ticker])\n",
    "\n",
    "# Accessing individual stock data\n",
    "pltr_data = stock_data['pltr']\n",
    "nio_data = stock_data['nio']\n",
    "v_data = stock_data['v']\n",
    "ma_data = stock_data['ma']\n",
    "axp_data = stock_data['axp']"
   ]
  },
  {
   "cell_type": "markdown",
   "metadata": {},
   "source": [
    "Now we partition our datasets into `in_sample` and `out_sample`"
   ]
  },
  {
   "cell_type": "code",
   "execution_count": 37,
   "metadata": {},
   "outputs": [],
   "source": [
    "# Create new dictionary to store each partition of the original data\n",
    "stock_data_in_sample = {}\n",
    "stock_data_out_sample = {}\n",
    "\n",
    "# Loop through each ticker symbol and split the data into in-sample and out-of-sample\n",
    "for ticker in tickers:\n",
    "    stock_data_in_sample[ticker] = stock_data[ticker].loc[stock_data[ticker]['Date'] <= '2024-08-31'].reset_index(drop=True)\n",
    "    stock_data_out_sample[ticker] = stock_data[ticker].loc[stock_data[ticker]['Date'] > '2024-08-31'].reset_index(drop=True)\n",
    "\n",
    "# Accessing individual stock data\n",
    "pltr_data_in_sample = stock_data_in_sample['pltr']\n",
    "nio_data_in_sample = stock_data_in_sample['nio']\n",
    "v_data_in_sample = stock_data_in_sample['v']\n",
    "ma_data_in_sample = stock_data_in_sample['ma']\n",
    "axp_data_in_sample = stock_data_in_sample['axp']\n",
    "\n",
    "pltr_data_out_sample = stock_data_out_sample['pltr']\n",
    "nio_data_out_sample = stock_data_out_sample['nio']\n",
    "v_data_out_sample = stock_data_out_sample['v']\n",
    "ma_data_out_sample = stock_data_out_sample['ma']\n",
    "axp_data_out_sample = stock_data_out_sample['axp']\n"
   ]
  },
  {
   "cell_type": "code",
   "execution_count": 38,
   "metadata": {},
   "outputs": [
    {
     "data": {
      "text/html": [
       "<div>\n",
       "<style scoped>\n",
       "    .dataframe tbody tr th:only-of-type {\n",
       "        vertical-align: middle;\n",
       "    }\n",
       "\n",
       "    .dataframe tbody tr th {\n",
       "        vertical-align: top;\n",
       "    }\n",
       "\n",
       "    .dataframe thead th {\n",
       "        text-align: right;\n",
       "    }\n",
       "</style>\n",
       "<table border=\"1\" class=\"dataframe\">\n",
       "  <thead>\n",
       "    <tr style=\"text-align: right;\">\n",
       "      <th></th>\n",
       "      <th>Date</th>\n",
       "      <th>Close/Last</th>\n",
       "      <th>Volume</th>\n",
       "      <th>Open</th>\n",
       "      <th>High</th>\n",
       "      <th>Low</th>\n",
       "      <th>Returns</th>\n",
       "      <th>% Returns</th>\n",
       "    </tr>\n",
       "  </thead>\n",
       "  <tbody>\n",
       "    <tr>\n",
       "      <th>0</th>\n",
       "      <td>2024-08-30</td>\n",
       "      <td>276.37</td>\n",
       "      <td>6296089</td>\n",
       "      <td>275.00</td>\n",
       "      <td>276.99</td>\n",
       "      <td>274.26</td>\n",
       "      <td>-1.37</td>\n",
       "      <td>-0.004982</td>\n",
       "    </tr>\n",
       "    <tr>\n",
       "      <th>1</th>\n",
       "      <td>2024-08-29</td>\n",
       "      <td>274.32</td>\n",
       "      <td>5565085</td>\n",
       "      <td>270.98</td>\n",
       "      <td>275.99</td>\n",
       "      <td>270.45</td>\n",
       "      <td>-3.34</td>\n",
       "      <td>-0.012326</td>\n",
       "    </tr>\n",
       "    <tr>\n",
       "      <th>2</th>\n",
       "      <td>2024-08-28</td>\n",
       "      <td>269.19</td>\n",
       "      <td>5455098</td>\n",
       "      <td>271.16</td>\n",
       "      <td>271.98</td>\n",
       "      <td>267.67</td>\n",
       "      <td>1.97</td>\n",
       "      <td>0.007265</td>\n",
       "    </tr>\n",
       "    <tr>\n",
       "      <th>3</th>\n",
       "      <td>2024-08-27</td>\n",
       "      <td>270.72</td>\n",
       "      <td>6594067</td>\n",
       "      <td>268.52</td>\n",
       "      <td>270.95</td>\n",
       "      <td>267.89</td>\n",
       "      <td>-2.20</td>\n",
       "      <td>-0.008193</td>\n",
       "    </tr>\n",
       "    <tr>\n",
       "      <th>4</th>\n",
       "      <td>2024-08-26</td>\n",
       "      <td>268.21</td>\n",
       "      <td>4612181</td>\n",
       "      <td>267.72</td>\n",
       "      <td>270.37</td>\n",
       "      <td>267.67</td>\n",
       "      <td>-0.49</td>\n",
       "      <td>-0.001830</td>\n",
       "    </tr>\n",
       "  </tbody>\n",
       "</table>\n",
       "</div>"
      ],
      "text/plain": [
       "        Date Close/Last   Volume    Open    High     Low  Returns  % Returns\n",
       "0 2024-08-30     276.37  6296089  275.00  276.99  274.26    -1.37  -0.004982\n",
       "1 2024-08-29     274.32  5565085  270.98  275.99  270.45    -3.34  -0.012326\n",
       "2 2024-08-28     269.19  5455098  271.16  271.98  267.67     1.97   0.007265\n",
       "3 2024-08-27     270.72  6594067  268.52  270.95  267.89    -2.20  -0.008193\n",
       "4 2024-08-26     268.21  4612181  267.72  270.37  267.67    -0.49  -0.001830"
      ]
     },
     "execution_count": 38,
     "metadata": {},
     "output_type": "execute_result"
    }
   ],
   "source": [
    "v_data_in_sample.head()"
   ]
  },
  {
   "cell_type": "markdown",
   "metadata": {},
   "source": [
    "### Step 2: MVE Portfolio Construction"
   ]
  },
  {
   "cell_type": "markdown",
   "metadata": {},
   "source": [
    "### Step 3: Black Litterman Model"
   ]
  },
  {
   "cell_type": "markdown",
   "metadata": {},
   "source": [
    "### Step 4: Out-of-sample Portfolio Evaluation"
   ]
  }
 ],
 "metadata": {
  "kernelspec": {
   "display_name": ".venv",
   "language": "python",
   "name": "python3"
  },
  "language_info": {
   "codemirror_mode": {
    "name": "ipython",
    "version": 3
   },
   "file_extension": ".py",
   "mimetype": "text/x-python",
   "name": "python",
   "nbconvert_exporter": "python",
   "pygments_lexer": "ipython3",
   "version": "3.11.4"
  }
 },
 "nbformat": 4,
 "nbformat_minor": 2
}
