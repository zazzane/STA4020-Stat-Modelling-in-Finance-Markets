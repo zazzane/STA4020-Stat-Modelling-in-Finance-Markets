{
 "cells": [
  {
   "cell_type": "markdown",
   "metadata": {},
   "source": [
    "# STA4020 Final Project\n",
    "### Objective:\n",
    "- explore the practical applications of asset allocation methodologies in constructing and evaluating investment portfolios. \n",
    "\n",
    "### Aims:\n",
    "- The project aims to help you apply the following key concepts:\n",
    "    - mean-variance optimization (MVO)\n",
    "    - equal-weighted portfolios (1/N)\n",
    "    - the BlackLitterman model for incorporating views. \n",
    "\n",
    "</br>\n",
    "The focus is on analyzing the performance of portfolios both in-sample and out-of-sample, under the given constraints."
   ]
  },
  {
   "cell_type": "markdown",
   "metadata": {},
   "source": [
    "### Step 1: Data Collection"
   ]
  },
  {
   "cell_type": "markdown",
   "metadata": {},
   "source": [
    "### Step 2: MVE Portfolio Construction"
   ]
  },
  {
   "cell_type": "markdown",
   "metadata": {},
   "source": [
    "### Step 3: Black Litterman Model"
   ]
  },
  {
   "cell_type": "markdown",
   "metadata": {},
   "source": [
    "### Step 4: Out-of-sample Portfolio Evaluation"
   ]
  }
 ],
 "metadata": {
  "language_info": {
   "name": "python"
  }
 },
 "nbformat": 4,
 "nbformat_minor": 2
}
